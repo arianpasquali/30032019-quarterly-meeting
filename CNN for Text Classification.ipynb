{
 "cells": [
  {
   "cell_type": "code",
   "execution_count": 1,
   "metadata": {},
   "outputs": [
    {
     "name": "stderr",
     "output_type": "stream",
     "text": [
      "Using TensorFlow backend.\n"
     ]
    }
   ],
   "source": [
    "import keras"
   ]
  },
  {
   "cell_type": "code",
   "execution_count": 2,
   "metadata": {},
   "outputs": [],
   "source": [
    "num_words = 50000\n",
    "maxlen = 500  # cut texts after this number of words\n",
    "embedding_dim = 32"
   ]
  },
  {
   "cell_type": "markdown",
   "metadata": {},
   "source": [
    "# Data Processing"
   ]
  },
  {
   "cell_type": "code",
   "execution_count": 3,
   "metadata": {},
   "outputs": [
    {
     "name": "stdout",
     "output_type": "stream",
     "text": [
      "8982 train sequences\n",
      "2246 test sequences\n"
     ]
    }
   ],
   "source": [
    "from keras.datasets import reuters\n",
    "\n",
    "(input_train, y_train), (input_test, y_test) = reuters.load_data(num_words=num_words, test_split=0.2)\n",
    "print(len(input_train), 'train sequences')\n",
    "print(len(input_test), 'test sequences')"
   ]
  },
  {
   "cell_type": "code",
   "execution_count": 4,
   "metadata": {},
   "outputs": [
    {
     "name": "stdout",
     "output_type": "stream",
     "text": [
      "input_train shape: (8982, 500)\n",
      "input_test shape: (2246, 500)\n",
      "y_train shape: (8982,)\n",
      "y_test shape: (2246,)\n"
     ]
    }
   ],
   "source": [
    "from keras.preprocessing import sequence\n",
    "\n",
    "input_train = sequence.pad_sequences(input_train, maxlen=maxlen)\n",
    "input_test = sequence.pad_sequences(input_test, maxlen=maxlen)\n",
    "\n",
    "print('input_train shape:', input_train.shape)\n",
    "print('input_test shape:', input_test.shape)\n",
    "print('y_train shape:', y_train.shape)\n",
    "print('y_test shape:', y_test.shape)"
   ]
  },
  {
   "cell_type": "code",
   "execution_count": 5,
   "metadata": {},
   "outputs": [
    {
     "name": "stdout",
     "output_type": "stream",
     "text": [
      "# of Classes:  46\n"
     ]
    }
   ],
   "source": [
    "num_classes = max(y_train) + 1\n",
    "print('# of Classes: ',num_classes)"
   ]
  },
  {
   "cell_type": "code",
   "execution_count": 6,
   "metadata": {},
   "outputs": [],
   "source": [
    "from keras.utils import np_utils\n",
    "\n",
    "y_train = np_utils.to_categorical(y_train, num_classes)\n",
    "y_test = np_utils.to_categorical(y_test, num_classes)"
   ]
  },
  {
   "cell_type": "markdown",
   "metadata": {},
   "source": [
    "# CNN Model Setup"
   ]
  },
  {
   "cell_type": "code",
   "execution_count": 10,
   "metadata": {},
   "outputs": [
    {
     "name": "stdout",
     "output_type": "stream",
     "text": [
      "WARNING:tensorflow:From /home/pedrobalage/Documents/portoai-nlp/venv/lib/python3.6/site-packages/tensorflow/python/framework/op_def_library.py:263: colocate_with (from tensorflow.python.framework.ops) is deprecated and will be removed in a future version.\n",
      "Instructions for updating:\n",
      "Colocations handled automatically by placer.\n",
      "(?, 500, 32)\n",
      "WARNING:tensorflow:From /home/pedrobalage/Documents/portoai-nlp/venv/lib/python3.6/site-packages/keras/backend/tensorflow_backend.py:3445: calling dropout (from tensorflow.python.ops.nn_ops) with keep_prob is deprecated and will be removed in a future version.\n",
      "Instructions for updating:\n",
      "Please use `rate` instead of `keep_prob`. Rate should be set to `rate = 1 - keep_prob`.\n"
     ]
    }
   ],
   "source": [
    "from keras.layers import Conv1D, Conv2D, MaxPooling1D, MaxPooling2D, Embedding\n",
    "from keras.layers import Dense, Input, Flatten, Reshape, concatenate, Dropout\n",
    "from keras.models import Model\n",
    "from keras import optimizers\n",
    "import numpy as np\n",
    "\n",
    "embedding_matrix = np.zeros((num_words, embedding_dim))\n",
    "\n",
    "embedding_layer = Embedding(num_words,\n",
    "                            embedding_dim,\n",
    "                            weights=[embedding_matrix],\n",
    "                            input_length=maxlen,\n",
    "                            trainable=True)\n",
    "\n",
    "sequence_input = Input(shape=(maxlen,), dtype='int32')\n",
    "embedded_sequences = embedding_layer(sequence_input)\n",
    "print(embedded_sequences.shape)\n",
    "\n",
    "\n",
    "# add first conv filter\n",
    "embedded_sequences = Reshape((maxlen, embedding_dim, 1))(embedded_sequences)\n",
    "x = Conv2D(100, (5, embedding_dim), activation='relu')(embedded_sequences)\n",
    "x = MaxPooling2D((maxlen - 5 + 1, 1))(x)\n",
    "\n",
    "\n",
    "# add second conv filter.\n",
    "y = Conv2D(100, (4, embedding_dim), activation='relu')(embedded_sequences)\n",
    "y = MaxPooling2D((maxlen - 4 + 1, 1))(y)\n",
    "\n",
    "\n",
    "# add third conv filter.\n",
    "z = Conv2D(100, (3, embedding_dim), activation='relu')(embedded_sequences)\n",
    "z = MaxPooling2D((maxlen - 3 + 1, 1))(z)\n",
    "\n",
    "\n",
    "# concate the conv layers\n",
    "alpha = concatenate([x,y,z])\n",
    "\n",
    "# flatted the pooled features.\n",
    "alpha = Flatten()(alpha)\n",
    "\n",
    "# dropout\n",
    "alpha = Dropout(0.5)(alpha)\n",
    "\n",
    "# predictions\n",
    "preds = Dense(num_classes, activation='softmax')(alpha)\n",
    "\n",
    "# build model\n",
    "model = Model(sequence_input, preds)\n",
    "adadelta = optimizers.Adadelta()\n",
    "\n",
    "model.compile(loss='categorical_crossentropy',\n",
    "              optimizer=adadelta,\n",
    "              metrics=['acc'])\n"
   ]
  },
  {
   "cell_type": "code",
   "execution_count": 11,
   "metadata": {},
   "outputs": [
    {
     "name": "stdout",
     "output_type": "stream",
     "text": [
      "__________________________________________________________________________________________________\n",
      "Layer (type)                    Output Shape         Param #     Connected to                     \n",
      "==================================================================================================\n",
      "input_1 (InputLayer)            (None, 500)          0                                            \n",
      "__________________________________________________________________________________________________\n",
      "embedding_1 (Embedding)         (None, 500, 32)      1600000     input_1[0][0]                    \n",
      "__________________________________________________________________________________________________\n",
      "reshape_1 (Reshape)             (None, 500, 32, 1)   0           embedding_1[0][0]                \n",
      "__________________________________________________________________________________________________\n",
      "conv2d_1 (Conv2D)               (None, 496, 1, 100)  16100       reshape_1[0][0]                  \n",
      "__________________________________________________________________________________________________\n",
      "conv2d_2 (Conv2D)               (None, 497, 1, 100)  12900       reshape_1[0][0]                  \n",
      "__________________________________________________________________________________________________\n",
      "conv2d_3 (Conv2D)               (None, 498, 1, 100)  9700        reshape_1[0][0]                  \n",
      "__________________________________________________________________________________________________\n",
      "max_pooling2d_1 (MaxPooling2D)  (None, 1, 1, 100)    0           conv2d_1[0][0]                   \n",
      "__________________________________________________________________________________________________\n",
      "max_pooling2d_2 (MaxPooling2D)  (None, 1, 1, 100)    0           conv2d_2[0][0]                   \n",
      "__________________________________________________________________________________________________\n",
      "max_pooling2d_3 (MaxPooling2D)  (None, 1, 1, 100)    0           conv2d_3[0][0]                   \n",
      "__________________________________________________________________________________________________\n",
      "concatenate_1 (Concatenate)     (None, 1, 1, 300)    0           max_pooling2d_1[0][0]            \n",
      "                                                                 max_pooling2d_2[0][0]            \n",
      "                                                                 max_pooling2d_3[0][0]            \n",
      "__________________________________________________________________________________________________\n",
      "flatten_1 (Flatten)             (None, 300)          0           concatenate_1[0][0]              \n",
      "__________________________________________________________________________________________________\n",
      "dropout_1 (Dropout)             (None, 300)          0           flatten_1[0][0]                  \n",
      "__________________________________________________________________________________________________\n",
      "dense_1 (Dense)                 (None, 46)           13846       dropout_1[0][0]                  \n",
      "==================================================================================================\n",
      "Total params: 1,652,546\n",
      "Trainable params: 1,652,546\n",
      "Non-trainable params: 0\n",
      "__________________________________________________________________________________________________\n"
     ]
    }
   ],
   "source": [
    "model.summary()"
   ]
  },
  {
   "cell_type": "code",
   "execution_count": 12,
   "metadata": {},
   "outputs": [
    {
     "name": "stdout",
     "output_type": "stream",
     "text": [
      "WARNING:tensorflow:From /home/pedrobalage/Documents/portoai-nlp/venv/lib/python3.6/site-packages/tensorflow/python/ops/math_ops.py:3066: to_int32 (from tensorflow.python.ops.math_ops) is deprecated and will be removed in a future version.\n",
      "Instructions for updating:\n",
      "Use tf.cast instead.\n",
      "Train on 6287 samples, validate on 2695 samples\n",
      "Epoch 1/10\n",
      "6287/6287 [==============================] - 14s 2ms/step - loss: 3.7471 - acc: 0.2003 - val_loss: 3.6597 - val_acc: 0.2215\n",
      "Epoch 2/10\n",
      "6287/6287 [==============================] - 13s 2ms/step - loss: 3.5821 - acc: 0.2150 - val_loss: 3.4947 - val_acc: 0.2215\n",
      "Epoch 3/10\n",
      "6287/6287 [==============================] - 13s 2ms/step - loss: 3.4222 - acc: 0.3129 - val_loss: 3.3362 - val_acc: 0.3532\n",
      "Epoch 4/10\n",
      "6287/6287 [==============================] - 14s 2ms/step - loss: 3.2705 - acc: 0.3510 - val_loss: 3.1866 - val_acc: 0.3532\n",
      "Epoch 5/10\n",
      "6287/6287 [==============================] - 14s 2ms/step - loss: 3.1285 - acc: 0.3510 - val_loss: 3.0484 - val_acc: 0.3532\n",
      "Epoch 6/10\n",
      "6287/6287 [==============================] - 14s 2ms/step - loss: 2.9989 - acc: 0.3510 - val_loss: 2.9238 - val_acc: 0.3532\n",
      "Epoch 7/10\n",
      "6287/6287 [==============================] - 14s 2ms/step - loss: 2.8837 - acc: 0.3510 - val_loss: 2.8137 - val_acc: 0.3532\n",
      "Epoch 8/10\n",
      "6287/6287 [==============================] - 14s 2ms/step - loss: 2.7835 - acc: 0.3510 - val_loss: 2.7200 - val_acc: 0.3532\n",
      "Epoch 9/10\n",
      "6287/6287 [==============================] - 14s 2ms/step - loss: 2.6992 - acc: 0.3510 - val_loss: 2.6419 - val_acc: 0.3532\n",
      "Epoch 10/10\n",
      "6287/6287 [==============================] - 14s 2ms/step - loss: 2.6302 - acc: 0.3510 - val_loss: 2.5788 - val_acc: 0.3532\n"
     ]
    }
   ],
   "source": [
    "batch_size = 64 # number of examples per batch\n",
    "n_epochs = 10   # number of epochs to train - each epoch is a full pass in the entire trainset   \n",
    "validation_split = 0.3  # split from the trainset to be used to compute validation scores - the accuracy on an independent set of examples\n",
    "\n",
    "history = model.fit(input_train, y_train,\n",
    "                    epochs=n_epochs,\n",
    "                    batch_size=batch_size,\n",
    "                    validation_split=validation_split)"
   ]
  },
  {
   "cell_type": "markdown",
   "metadata": {},
   "source": [
    "# Performance Plot"
   ]
  },
  {
   "cell_type": "code",
   "execution_count": 13,
   "metadata": {},
   "outputs": [
    {
     "data": {
      "image/png": "[encoded data removed]",
      "text/plain": [
       "<Figure size 432x288 with 1 Axes>"
      ]
     },
     "metadata": {
      "needs_background": "light"
     },
     "output_type": "display_data"
    },
    {
     "data": {
      "image/png": "[encoded data removed]",
      "text/plain": [
       "<Figure size 432x288 with 1 Axes>"
      ]
     },
     "metadata": {
      "needs_background": "light"
     },
     "output_type": "display_data"
    }
   ],
   "source": [
    "import matplotlib.pyplot as plt\n",
    "%matplotlib inline\n",
    "\n",
    "acc = history.history['acc']\n",
    "val_acc = history.history['val_acc']\n",
    "loss = history.history['loss']\n",
    "val_loss = history.history['val_loss']\n",
    "\n",
    "epochs = range(len(acc))\n",
    "\n",
    "plt.plot(epochs, acc, 'bo', label='Training acc')\n",
    "plt.plot(epochs, val_acc, 'b', label='Validation acc')\n",
    "plt.title('Training and validation accuracy')\n",
    "plt.legend()\n",
    "\n",
    "plt.figure()\n",
    "\n",
    "plt.plot(epochs, loss, 'bo', label='Training loss')\n",
    "plt.plot(epochs, val_loss, 'b', label='Validation loss')\n",
    "plt.title('Training and validation loss')\n",
    "plt.legend()\n",
    "\n",
    "plt.show()"
   ]
  },
  {
   "cell_type": "code",
   "execution_count": null,
   "metadata": {},
   "outputs": [],
   "source": []
  }
 ],
 "metadata": {
  "kernelspec": {
   "display_name": "Python 3",
   "language": "python",
   "name": "python3"
  },
  "language_info": {
   "codemirror_mode": {
    "name": "ipython",
    "version": 3
   },
   "file_extension": ".py",
   "mimetype": "text/x-python",
   "name": "python",
   "nbconvert_exporter": "python",
   "pygments_lexer": "ipython3",
   "version": "3.6.7"
  }
 },
 "nbformat": 4,
 "nbformat_minor": 2
}
