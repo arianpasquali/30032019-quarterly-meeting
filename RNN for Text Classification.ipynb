{
 "cells": [
  {
   "cell_type": "code",
   "execution_count": 1,
   "metadata": {},
   "outputs": [
    {
     "name": "stderr",
     "output_type": "stream",
     "text": [
      "Using TensorFlow backend.\n"
     ]
    }
   ],
   "source": [
    "import keras"
   ]
  },
  {
   "cell_type": "code",
   "execution_count": 2,
   "metadata": {},
   "outputs": [],
   "source": [
    "num_words = 50000\n",
    "maxlen = 500  # cut texts after this number of words\n",
    "embedding_dim = 32"
   ]
  },
  {
   "cell_type": "markdown",
   "metadata": {},
   "source": [
    "# Data Processing"
   ]
  },
  {
   "cell_type": "code",
   "execution_count": 3,
   "metadata": {},
   "outputs": [
    {
     "name": "stdout",
     "output_type": "stream",
     "text": [
      "8982 train sequences\n",
      "2246 test sequences\n"
     ]
    }
   ],
   "source": [
    "from keras.datasets import reuters\n",
    "\n",
    "(input_train, y_train), (input_test, y_test) = reuters.load_data(num_words=num_words, test_split=0.2)\n",
    "print(len(input_train), 'train sequences')\n",
    "print(len(input_test), 'test sequences')"
   ]
  },
  {
   "cell_type": "code",
   "execution_count": 4,
   "metadata": {},
   "outputs": [
    {
     "name": "stdout",
     "output_type": "stream",
     "text": [
      "input_train shape: (8982, 500)\n",
      "input_test shape: (2246, 500)\n",
      "y_train shape: (8982,)\n",
      "y_test shape: (2246,)\n"
     ]
    }
   ],
   "source": [
    "from keras.preprocessing import sequence\n",
    "\n",
    "input_train = sequence.pad_sequences(input_train, maxlen=maxlen)\n",
    "input_test = sequence.pad_sequences(input_test, maxlen=maxlen)\n",
    "\n",
    "print('input_train shape:', input_train.shape)\n",
    "print('input_test shape:', input_test.shape)\n",
    "print('y_train shape:', y_train.shape)\n",
    "print('y_test shape:', y_test.shape)"
   ]
  },
  {
   "cell_type": "code",
   "execution_count": 5,
   "metadata": {},
   "outputs": [
    {
     "name": "stdout",
     "output_type": "stream",
     "text": [
      "# of Classes:  46\n"
     ]
    }
   ],
   "source": [
    "num_classes = max(y_train) + 1\n",
    "print('# of Classes: ',num_classes)"
   ]
  },
  {
   "cell_type": "code",
   "execution_count": 6,
   "metadata": {},
   "outputs": [],
   "source": [
    "from keras.utils import np_utils\n",
    "\n",
    "y_train = np_utils.to_categorical(y_train, num_classes)\n",
    "y_test = np_utils.to_categorical(y_test, num_classes)"
   ]
  },
  {
   "cell_type": "markdown",
   "metadata": {},
   "source": [
    "# RNN Model Setup"
   ]
  },
  {
   "cell_type": "code",
   "execution_count": 9,
   "metadata": {},
   "outputs": [],
   "source": [
    "from keras.models import Sequential\n",
    "from keras.layers import Embedding, SimpleRNN\n",
    "from keras.layers import Dense, Activation\n",
    "\n",
    "model = Sequential()\n",
    "model.add(Embedding(num_words, embedding_dim))\n",
    "model.add(SimpleRNN(embedding_dim, return_sequences=True))\n",
    "model.add(SimpleRNN(embedding_dim, return_sequences=True))\n",
    "model.add(SimpleRNN(embedding_dim, return_sequences=True))\n",
    "model.add(SimpleRNN(embedding_dim))\n",
    "model.add(Dense(num_classes))\n",
    "model.add(Activation('softmax'))\n",
    "model.compile(loss='categorical_crossentropy', optimizer='adam', metrics=['accuracy'])"
   ]
  },
  {
   "cell_type": "code",
   "execution_count": 10,
   "metadata": {},
   "outputs": [
    {
     "name": "stdout",
     "output_type": "stream",
     "text": [
      "_________________________________________________________________\n",
      "Layer (type)                 Output Shape              Param #   \n",
      "=================================================================\n",
      "embedding_2 (Embedding)      (None, None, 32)          1600000   \n",
      "_________________________________________________________________\n",
      "simple_rnn_5 (SimpleRNN)     (None, None, 32)          2080      \n",
      "_________________________________________________________________\n",
      "simple_rnn_6 (SimpleRNN)     (None, None, 32)          2080      \n",
      "_________________________________________________________________\n",
      "simple_rnn_7 (SimpleRNN)     (None, None, 32)          2080      \n",
      "_________________________________________________________________\n",
      "simple_rnn_8 (SimpleRNN)     (None, 32)                2080      \n",
      "_________________________________________________________________\n",
      "dense_2 (Dense)              (None, 46)                1518      \n",
      "_________________________________________________________________\n",
      "activation_2 (Activation)    (None, 46)                0         \n",
      "=================================================================\n",
      "Total params: 1,609,838\n",
      "Trainable params: 1,609,838\n",
      "Non-trainable params: 0\n",
      "_________________________________________________________________\n"
     ]
    }
   ],
   "source": [
    "model.summary()"
   ]
  },
  {
   "cell_type": "code",
   "execution_count": 11,
   "metadata": {},
   "outputs": [
    {
     "name": "stdout",
     "output_type": "stream",
     "text": [
      "WARNING:tensorflow:From /home/pedrobalage/Documents/portoai-nlp/venv/lib/python3.6/site-packages/tensorflow/python/ops/math_ops.py:3066: to_int32 (from tensorflow.python.ops.math_ops) is deprecated and will be removed in a future version.\n",
      "Instructions for updating:\n",
      "Use tf.cast instead.\n",
      "Train on 6287 samples, validate on 2695 samples\n",
      "Epoch 1/10\n",
      "6287/6287 [==============================] - 22s 3ms/step - loss: 2.7897 - acc: 0.2963 - val_loss: 2.3930 - val_acc: 0.3532\n",
      "Epoch 2/10\n",
      "6287/6287 [==============================] - 21s 3ms/step - loss: 2.2523 - acc: 0.4339 - val_loss: 2.1926 - val_acc: 0.4375\n",
      "Epoch 3/10\n",
      "6287/6287 [==============================] - 22s 3ms/step - loss: 1.7841 - acc: 0.5626 - val_loss: 2.0190 - val_acc: 0.4876\n",
      "Epoch 4/10\n",
      "6287/6287 [==============================] - 23s 4ms/step - loss: 1.2705 - acc: 0.6897 - val_loss: 2.0282 - val_acc: 0.4909\n",
      "Epoch 5/10\n",
      "6287/6287 [==============================] - 22s 3ms/step - loss: 0.8876 - acc: 0.7864 - val_loss: 2.1086 - val_acc: 0.4976\n",
      "Epoch 6/10\n",
      "6287/6287 [==============================] - 23s 4ms/step - loss: 0.6396 - acc: 0.8568 - val_loss: 2.2389 - val_acc: 0.4883\n",
      "Epoch 7/10\n",
      "6287/6287 [==============================] - 22s 4ms/step - loss: 0.4852 - acc: 0.9027 - val_loss: 2.3218 - val_acc: 0.4891\n",
      "Epoch 8/10\n",
      "6287/6287 [==============================] - 23s 4ms/step - loss: 0.3780 - acc: 0.9286 - val_loss: 2.3706 - val_acc: 0.4909\n",
      "Epoch 9/10\n",
      "6287/6287 [==============================] - 22s 3ms/step - loss: 0.3018 - acc: 0.9456 - val_loss: 2.4254 - val_acc: 0.4887\n",
      "Epoch 10/10\n",
      "6287/6287 [==============================] - 24s 4ms/step - loss: 0.2456 - acc: 0.9524 - val_loss: 2.5074 - val_acc: 0.4846\n"
     ]
    }
   ],
   "source": [
    "batch_size = 64 # number of examples per batch\n",
    "n_epochs = 10   # number of epochs to train - each epoch is a full pass in the entire trainset   \n",
    "validation_split = 0.3  # split from the trainset to be used to compute validation scores - the accuracy on an independent set of examples\n",
    "\n",
    "history = model.fit(input_train, y_train,\n",
    "                    epochs=n_epochs,\n",
    "                    batch_size=batch_size,\n",
    "                    validation_split=validation_split)"
   ]
  },
  {
   "cell_type": "markdown",
   "metadata": {},
   "source": [
    "# Performance Plot"
   ]
  },
  {
   "cell_type": "code",
   "execution_count": 12,
   "metadata": {},
   "outputs": [
    {
     "data": {
      "image/png": "[encoded data removed]",
      "text/plain": [
       "<Figure size 432x288 with 1 Axes>"
      ]
     },
     "metadata": {
      "needs_background": "light"
     },
     "output_type": "display_data"
    },
    {
     "data": {
      "image/png": "[encoded data removed]",
      "text/plain": [
       "<Figure size 432x288 with 1 Axes>"
      ]
     },
     "metadata": {
      "needs_background": "light"
     },
     "output_type": "display_data"
    }
   ],
   "source": [
    "import matplotlib.pyplot as plt\n",
    "%matplotlib inline\n",
    "\n",
    "acc = history.history['acc']\n",
    "val_acc = history.history['val_acc']\n",
    "loss = history.history['loss']\n",
    "val_loss = history.history['val_loss']\n",
    "\n",
    "epochs = range(len(acc))\n",
    "\n",
    "plt.plot(epochs, acc, 'bo', label='Training acc')\n",
    "plt.plot(epochs, val_acc, 'b', label='Validation acc')\n",
    "plt.title('Training and validation accuracy')\n",
    "plt.legend()\n",
    "\n",
    "plt.figure()\n",
    "\n",
    "plt.plot(epochs, loss, 'bo', label='Training loss')\n",
    "plt.plot(epochs, val_loss, 'b', label='Validation loss')\n",
    "plt.title('Training and validation loss')\n",
    "plt.legend()\n",
    "\n",
    "plt.show()"
   ]
  },
  {
   "cell_type": "code",
   "execution_count": null,
   "metadata": {},
   "outputs": [],
   "source": []
  }
 ],
 "metadata": {
  "kernelspec": {
   "display_name": "Python 3",
   "language": "python",
   "name": "python3"
  },
  "language_info": {
   "codemirror_mode": {
    "name": "ipython",
    "version": 3
   },
   "file_extension": ".py",
   "mimetype": "text/x-python",
   "name": "python",
   "nbconvert_exporter": "python",
   "pygments_lexer": "ipython3",
   "version": "3.6.7"
  }
 },
 "nbformat": 4,
 "nbformat_minor": 2
}
