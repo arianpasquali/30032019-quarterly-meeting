{
 "cells": [
  {
   "cell_type": "code",
   "execution_count": 1,
   "metadata": {},
   "outputs": [
    {
     "name": "stderr",
     "output_type": "stream",
     "text": [
      "Using TensorFlow backend.\n"
     ]
    }
   ],
   "source": [
    "import keras"
   ]
  },
  {
   "cell_type": "markdown",
   "metadata": {},
   "source": [
    "# Data Processing"
   ]
  },
  {
   "cell_type": "code",
   "execution_count": 2,
   "metadata": {},
   "outputs": [
    {
     "name": "stdout",
     "output_type": "stream",
     "text": [
      "8982 train sequences\n",
      "2246 test sequences\n"
     ]
    }
   ],
   "source": [
    "from keras.datasets import reuters\n",
    "\n",
    "(input_train, y_train), (input_test, y_test) = reuters.load_data(num_words=None, test_split=0.2)\n",
    "print(len(input_train), 'train sequences')\n",
    "print(len(input_test), 'test sequences')"
   ]
  },
  {
   "cell_type": "code",
   "execution_count": 3,
   "metadata": {},
   "outputs": [
    {
     "name": "stdout",
     "output_type": "stream",
     "text": [
      "input_train shape: (8982, 500)\n",
      "input_test shape: (2246, 500)\n",
      "y_train shape: (8982,)\n",
      "y_test shape: (2246,)\n"
     ]
    }
   ],
   "source": [
    "from keras.preprocessing import sequence\n",
    "\n",
    "maxlen = 500  # cut texts after this number of words\n",
    "\n",
    "input_train = sequence.pad_sequences(input_train, maxlen=maxlen)\n",
    "input_test = sequence.pad_sequences(input_test, maxlen=maxlen)\n",
    "\n",
    "print('input_train shape:', input_train.shape)\n",
    "print('input_test shape:', input_test.shape)\n",
    "print('y_train shape:', y_train.shape)\n",
    "print('y_test shape:', y_test.shape)"
   ]
  },
  {
   "cell_type": "code",
   "execution_count": 4,
   "metadata": {},
   "outputs": [
    {
     "name": "stdout",
     "output_type": "stream",
     "text": [
      "# of Classes:  46\n"
     ]
    }
   ],
   "source": [
    "num_classes = max(y_train) + 1\n",
    "print('# of Classes: ',num_classes)"
   ]
  },
  {
   "cell_type": "code",
   "execution_count": 5,
   "metadata": {},
   "outputs": [],
   "source": [
    "from keras.utils import np_utils\n",
    "\n",
    "y_train = np_utils.to_categorical(y_train, num_classes)\n",
    "y_test = np_utils.to_categorical(y_test, num_classes)"
   ]
  },
  {
   "cell_type": "markdown",
   "metadata": {},
   "source": [
    "# Multi-Layer Perceptron (MLP) Model Setup"
   ]
  },
  {
   "cell_type": "code",
   "execution_count": 6,
   "metadata": {},
   "outputs": [
    {
     "name": "stdout",
     "output_type": "stream",
     "text": [
      "WARNING:tensorflow:From /home/pedrobalage/Documents/portoai-nlp/venv/lib/python3.6/site-packages/tensorflow/python/framework/op_def_library.py:263: colocate_with (from tensorflow.python.framework.ops) is deprecated and will be removed in a future version.\n",
      "Instructions for updating:\n",
      "Colocations handled automatically by placer.\n",
      "WARNING:tensorflow:From /home/pedrobalage/Documents/portoai-nlp/venv/lib/python3.6/site-packages/keras/backend/tensorflow_backend.py:3445: calling dropout (from tensorflow.python.ops.nn_ops) with keep_prob is deprecated and will be removed in a future version.\n",
      "Instructions for updating:\n",
      "Please use `rate` instead of `keep_prob`. Rate should be set to `rate = 1 - keep_prob`.\n"
     ]
    }
   ],
   "source": [
    "from keras.models import Sequential\n",
    "from keras.layers import Dense, Dropout, Activation\n",
    "\n",
    "model = Sequential()\n",
    "model.add(Dense(16, input_shape=(maxlen,)))\n",
    "model.add(Activation('relu'))\n",
    "model.add(Dropout(0.5))\n",
    "model.add(Dense(num_classes))\n",
    "model.add(Activation('softmax'))\n",
    "model.compile(loss='categorical_crossentropy', optimizer='adam', metrics=['accuracy'])"
   ]
  },
  {
   "cell_type": "code",
   "execution_count": 7,
   "metadata": {},
   "outputs": [
    {
     "name": "stdout",
     "output_type": "stream",
     "text": [
      "_________________________________________________________________\n",
      "Layer (type)                 Output Shape              Param #   \n",
      "=================================================================\n",
      "dense_1 (Dense)              (None, 16)                8016      \n",
      "_________________________________________________________________\n",
      "activation_1 (Activation)    (None, 16)                0         \n",
      "_________________________________________________________________\n",
      "dropout_1 (Dropout)          (None, 16)                0         \n",
      "_________________________________________________________________\n",
      "dense_2 (Dense)              (None, 46)                782       \n",
      "_________________________________________________________________\n",
      "activation_2 (Activation)    (None, 46)                0         \n",
      "=================================================================\n",
      "Total params: 8,798\n",
      "Trainable params: 8,798\n",
      "Non-trainable params: 0\n",
      "_________________________________________________________________\n"
     ]
    }
   ],
   "source": [
    "model.summary()"
   ]
  },
  {
   "cell_type": "code",
   "execution_count": 8,
   "metadata": {},
   "outputs": [
    {
     "name": "stdout",
     "output_type": "stream",
     "text": [
      "WARNING:tensorflow:From /home/pedrobalage/Documents/portoai-nlp/venv/lib/python3.6/site-packages/tensorflow/python/ops/math_ops.py:3066: to_int32 (from tensorflow.python.ops.math_ops) is deprecated and will be removed in a future version.\n",
      "Instructions for updating:\n",
      "Use tf.cast instead.\n",
      "Train on 6287 samples, validate on 2695 samples\n",
      "Epoch 1/20\n",
      "6287/6287 [==============================] - 0s 44us/step - loss: 14.5110 - acc: 0.0907 - val_loss: 12.4006 - val_acc: 0.2249\n",
      "Epoch 2/20\n",
      "6287/6287 [==============================] - 0s 19us/step - loss: 12.6783 - acc: 0.2028 - val_loss: 11.0266 - val_acc: 0.3147\n",
      "Epoch 3/20\n",
      "6287/6287 [==============================] - 0s 18us/step - loss: 11.7609 - acc: 0.2574 - val_loss: 10.6417 - val_acc: 0.3395\n",
      "Epoch 4/20\n",
      "6287/6287 [==============================] - 0s 19us/step - loss: 11.0127 - acc: 0.2973 - val_loss: 10.5740 - val_acc: 0.3440\n",
      "Epoch 5/20\n",
      "6287/6287 [==============================] - 0s 18us/step - loss: 10.6946 - acc: 0.3086 - val_loss: 10.5017 - val_acc: 0.3484\n",
      "Epoch 6/20\n",
      "6287/6287 [==============================] - 0s 18us/step - loss: 10.4843 - acc: 0.3242 - val_loss: 10.4842 - val_acc: 0.3495\n",
      "Epoch 7/20\n",
      "6287/6287 [==============================] - 0s 18us/step - loss: 10.4212 - acc: 0.3230 - val_loss: 10.4723 - val_acc: 0.3503\n",
      "Epoch 8/20\n",
      "6287/6287 [==============================] - 0s 18us/step - loss: 10.2871 - acc: 0.3329 - val_loss: 10.4557 - val_acc: 0.3510\n",
      "Epoch 9/20\n",
      "6287/6287 [==============================] - 0s 19us/step - loss: 10.1357 - acc: 0.3366 - val_loss: 10.4484 - val_acc: 0.3518\n",
      "Epoch 10/20\n",
      "6287/6287 [==============================] - 0s 17us/step - loss: 10.0941 - acc: 0.3413 - val_loss: 10.4424 - val_acc: 0.3521\n",
      "Epoch 11/20\n",
      "6287/6287 [==============================] - 0s 18us/step - loss: 10.0804 - acc: 0.3405 - val_loss: 10.4424 - val_acc: 0.3521\n",
      "Epoch 12/20\n",
      "6287/6287 [==============================] - 0s 18us/step - loss: 9.9748 - acc: 0.3410 - val_loss: 10.4364 - val_acc: 0.3525\n",
      "Epoch 13/20\n",
      "6287/6287 [==============================] - 0s 18us/step - loss: 9.9103 - acc: 0.3405 - val_loss: 10.4304 - val_acc: 0.3529\n",
      "Epoch 14/20\n",
      "6287/6287 [==============================] - 0s 17us/step - loss: 9.7879 - acc: 0.3437 - val_loss: 10.4304 - val_acc: 0.3529\n",
      "Epoch 15/20\n",
      "6287/6287 [==============================] - 0s 18us/step - loss: 9.6743 - acc: 0.3420 - val_loss: 10.4304 - val_acc: 0.3529\n",
      "Epoch 16/20\n",
      "6287/6287 [==============================] - 0s 18us/step - loss: 9.6380 - acc: 0.3445 - val_loss: 10.4304 - val_acc: 0.3529\n",
      "Epoch 17/20\n",
      "6287/6287 [==============================] - 0s 18us/step - loss: 9.5407 - acc: 0.3423 - val_loss: 10.4304 - val_acc: 0.3529\n",
      "Epoch 18/20\n",
      "6287/6287 [==============================] - 0s 20us/step - loss: 9.5134 - acc: 0.3456 - val_loss: 10.4424 - val_acc: 0.3521\n",
      "Epoch 19/20\n",
      "6287/6287 [==============================] - 0s 23us/step - loss: 9.4455 - acc: 0.3452 - val_loss: 10.4424 - val_acc: 0.3521\n",
      "Epoch 20/20\n",
      "6287/6287 [==============================] - 0s 23us/step - loss: 9.4277 - acc: 0.3485 - val_loss: 10.4424 - val_acc: 0.3521\n"
     ]
    }
   ],
   "source": [
    "batch_size = 64 # number of examples per batch\n",
    "n_epochs = 20   # number of epochs to train - each epoch is a full pass in the entire trainset   \n",
    "validation_split = 0.3  # split from the trainset to be used to compute validation scores - the accuracy on an independent set of examples\n",
    "\n",
    "history = model.fit(input_train, y_train,\n",
    "                    epochs=n_epochs,\n",
    "                    batch_size=batch_size,\n",
    "                    validation_split=validation_split)"
   ]
  },
  {
   "cell_type": "markdown",
   "metadata": {},
   "source": [
    "# Performance Plot"
   ]
  },
  {
   "cell_type": "code",
   "execution_count": 9,
   "metadata": {},
   "outputs": [
    {
     "data": {
      "image/png": "[encoded data removed]",
      "text/plain": [
       "<Figure size 432x288 with 1 Axes>"
      ]
     },
     "metadata": {
      "needs_background": "light"
     },
     "output_type": "display_data"
    },
    {
     "data": {
      "image/png": "[encoded data removed]",
      "text/plain": [
       "<Figure size 432x288 with 1 Axes>"
      ]
     },
     "metadata": {
      "needs_background": "light"
     },
     "output_type": "display_data"
    }
   ],
   "source": [
    "import matplotlib.pyplot as plt\n",
    "%matplotlib inline\n",
    "\n",
    "acc = history.history['acc']\n",
    "val_acc = history.history['val_acc']\n",
    "loss = history.history['loss']\n",
    "val_loss = history.history['val_loss']\n",
    "\n",
    "epochs = range(len(acc))\n",
    "\n",
    "plt.plot(epochs, acc, 'bo', label='Training acc')\n",
    "plt.plot(epochs, val_acc, 'b', label='Validation acc')\n",
    "plt.title('Training and validation accuracy')\n",
    "plt.legend()\n",
    "\n",
    "plt.figure()\n",
    "\n",
    "plt.plot(epochs, loss, 'bo', label='Training loss')\n",
    "plt.plot(epochs, val_loss, 'b', label='Validation loss')\n",
    "plt.title('Training and validation loss')\n",
    "plt.legend()\n",
    "\n",
    "plt.show()"
   ]
  },
  {
   "cell_type": "code",
   "execution_count": null,
   "metadata": {},
   "outputs": [],
   "source": []
  }
 ],
 "metadata": {
  "kernelspec": {
   "display_name": "Python 3",
   "language": "python",
   "name": "python3"
  },
  "language_info": {
   "codemirror_mode": {
    "name": "ipython",
    "version": 3
   },
   "file_extension": ".py",
   "mimetype": "text/x-python",
   "name": "python",
   "nbconvert_exporter": "python",
   "pygments_lexer": "ipython3",
   "version": "3.6.7"
  }
 },
 "nbformat": 4,
 "nbformat_minor": 2
}
